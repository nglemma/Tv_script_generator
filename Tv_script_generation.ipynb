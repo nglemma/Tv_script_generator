{
  "cells": [
    {
      "cell_type": "markdown",
      "metadata": {
        "id": "CVMCRC9hGNOv"
      },
      "source": [
        "# TV Script Generation\n",
        "\n",
        "In this project, i'll generate a [Seinfeld](https://en.wikipedia.org/wiki/Seinfeld) TV scripts using RNNs.  I'll be using part of the [Seinfeld dataset](https://www.kaggle.com/thec03u5/seinfeld-chronicles#scripts.csv) of scripts from 9 seasons.  The Neural Network I'll build will generate a new ,\"fake\" TV script, based on patterns it recognizes in this training data.\n"
      ]
    },
    {
      "cell_type": "code",
      "execution_count": null,
      "metadata": {
        "id": "J8dUZJ6rGNO4"
      },
      "outputs": [],
      "source": [
        "#load in data\n",
        "import helper\n",
        "data_dir = './data/Seinfeld_Scripts.txt'\n",
        "text = helper.load_data(data_dir)"
      ]
    },
    {
      "cell_type": "markdown",
      "metadata": {
        "id": "NQLVYjxEGNO8"
      },
      "source": [
        "## Explore the Data"
      ]
    },
    {
      "cell_type": "code",
      "execution_count": null,
      "metadata": {
        "id": "wf0104PQGNO9",
        "outputId": "0fe1d7b0-402e-452f-d602-cbb6963f1e74"
      },
      "outputs": [
        {
          "name": "stdout",
          "output_type": "stream",
          "text": [
            "Dataset Stats\n",
            "Roughly the number of unique words: 46367\n",
            "Number of lines: 109233\n",
            "Average number of words in each line: 5.544240293684143\n",
            "\n",
            "The lines 0 to 10:\n",
            "jerry: do you know what this is all about? do you know, why were here? to be out, this is out...and out is one of the single most enjoyable experiences of life. people...did you ever hear people talking about we should go out? this is what theyre talking about...this whole thing, were all out now, no one is home. not one person here is home, were all out! there are people trying to find us, they dont know where we are. (on an imaginary phone) did you ring?, i cant find him. where did he go? he didnt tell me where he was going. he must have gone out. you wanna go out you get ready, you pick out the clothes, right? you take the shower, you get all ready, get the cash, get your friends, the car, the spot, the reservation...then youre standing around, what do you do? you go we gotta be getting back. once youre out, you wanna get back! you wanna go to sleep, you wanna get up, you wanna go out again tomorrow, right? where ever you are in life, its my feeling, youve gotta go. \n",
            "\n",
            "jerry: (pointing at georges shirt) see, to me, that button is in the worst possible spot. the second button literally makes or breaks the shirt, look at it. its too high! its in no-mans-land. you look like you live with your mother. \n",
            "\n",
            "george: are you through? \n",
            "\n",
            "jerry: you do of course try on, when you buy? \n",
            "\n",
            "george: yes, it was purple, i liked it, i dont actually recall considering the buttons. \n",
            "\n"
          ]
        }
      ],
      "source": [
        "view_line_range = (0, 10)\n",
        "\n",
        "import numpy as np\n",
        "\n",
        "print('Dataset Stats')\n",
        "print('Roughly the number of unique words: {}'.format(len({word: None for word in text.split()})))\n",
        "\n",
        "lines = text.split('\\n')\n",
        "print('Number of lines: {}'.format(len(lines)))\n",
        "word_count_line = [len(line.split()) for line in lines]\n",
        "print('Average number of words in each line: {}'.format(np.average(word_count_line)))\n",
        "\n",
        "print()\n",
        "print('The lines {} to {}:'.format(*view_line_range))\n",
        "print('\\n'.join(text.split('\\n')[view_line_range[0]:view_line_range[1]]))"
      ]
    },
    {
      "cell_type": "markdown",
      "metadata": {
        "id": "luQPeCNeGNO-"
      },
      "source": [
        "---\n",
        "## Implement Pre-processing Functions\n",
        "The first thing to do to any dataset is pre-processing.  Implement the following pre-processing functions below:\n",
        "- Lookup Table\n",
        "- Tokenize Punctuation\n",
        "\n",
        "### Lookup Table\n",
        "To create a word embedding, i first need to transform the words to ids.  In this function, i create two dictionaries:\n",
        "- Dictionary to go from the words to an id, we'll call `vocab_to_int`\n",
        "- Dictionary to go from the id to word, we'll call `int_to_vocab`\n",
        "\n",
        "Return these dictionaries in the following **tuple** `(vocab_to_int, int_to_vocab)`"
      ]
    },
    {
      "cell_type": "code",
      "execution_count": null,
      "metadata": {
        "id": "2vTE0MwXGNO-",
        "outputId": "77d43d22-b959-4e52-f2c9-2337b9f543f0"
      },
      "outputs": [
        {
          "name": "stdout",
          "output_type": "stream",
          "text": [
            "Tests Passed\n"
          ]
        }
      ],
      "source": [
        "import problem_unittests as tests\n",
        "from collections import Counter\n",
        "\n",
        "def create_lookup_tables(text):\n",
        "    \"\"\"\n",
        "    Create lookup tables for vocabulary\n",
        "    :param text: The text of tv scripts split into words\n",
        "    :return: A tuple of dicts (vocab_to_int, int_to_vocab)\n",
        "    \"\"\"\n",
        "    \n",
        "    #counts = Counter(text)\n",
        "    #print(counts)\n",
        "    #vocab = sorted(counts, key=counts.get, reverse=True)\n",
        "    #vocab_to_int = {word: num for num, word in enumerate(counts,1)}\n",
        "    #print(vocab_to_int)\n",
        "    #int_to_vocab = {key: value for value, key in vocab_to_int.items()}\n",
        "    #print(int_to_vocab)\n",
        "    # return tuple\n",
        "    unique_words = set(text)\n",
        "    vocab_to_int = {char:i for i, char in enumerate(unique_words)}\n",
        "    int_to_vocab = {i:char for i, char in enumerate(unique_words)}\n",
        "    \n",
        "    # return tuple\n",
        "    return (vocab_to_int, int_to_vocab)\n",
        "\n",
        "\n",
        "tests.test_create_lookup_tables(create_lookup_tables)"
      ]
    },
    {
      "cell_type": "markdown",
      "metadata": {
        "id": "A5KhuKApGNPA"
      },
      "source": [
        "### Tokenize Punctuation"
      ]
    },
    {
      "cell_type": "code",
      "execution_count": null,
      "metadata": {
        "id": "xl33FejYGNPA",
        "outputId": "dfaffffe-5886-4b38-ca26-f9445aab1fd5"
      },
      "outputs": [
        {
          "name": "stdout",
          "output_type": "stream",
          "text": [
            "Tests Passed\n"
          ]
        }
      ],
      "source": [
        "from string import punctuation\n",
        "\n",
        "def token_lookup():\n",
        "    \"\"\"\n",
        "    Generate a dict to turn punctuation into a token.\n",
        "    :return: Tokenized dictionary where the key is the punctuation and the value is the token\n",
        "    \"\"\"\n",
        "    #punct_dict={}\n",
        "    #punctuate = ['.',',','\"',';','!','?','(',')','\\n','-']\n",
        "    \n",
        "    #for c in punctuate:\n",
        "        #if c == '.':\n",
        "            #punt_dict[c]='||Period||'\n",
        "        #elif c == ',':\n",
        "            #punt_dict[c]='Comma'\n",
        "        #elif c == '\\\"':\n",
        "            #punt_dict[c] = '||Quotation_Mark||'\n",
        "        #elif c == ';':\n",
        "            #punt_dict[c]= 'semicolon'\n",
        "        #elif c == '!':\n",
        "            #punt_dict[c]= '||Exclamation_mark||'\n",
        "        #elif c == '?':\n",
        "            #punt_dict[c] = '||Question_mark||'\n",
        "        #elif c =='(':\n",
        "            #punt_dict[c] = '||Left_Parentheses||'\n",
        "        #elif c == ')':\n",
        "            #punt_dict[c] = '||Right_Parentheses||'\n",
        "        #elif c == '\\n':\n",
        "            #punt_dict[c] = '||Return||'\n",
        "        #elif c == '-':\n",
        "            #punt_dict[c] = '||dash||'\n",
        "    #or \n",
        "    \n",
        "    punct_dict = {\".\":\"||Period||\",\",\":\"||Comma||\",\"\\\"\":\"||Quotation_Mark||\",\n",
        "                      \";\":\"Semicolon\",\"!\":\"||Exclamation_Mark||\",\"?\":\"||Question_Mark||\",\n",
        "                       \"(\":\"||Left_Parentheses||\",\")\":\"||Right_Paremtheses||\",\n",
        "                       \"-\":\"||Dash||\",\"\\n\":\"||Return||\"}\n",
        "    return punct_dict\n",
        "    \n",
        "\n",
        "tests.test_tokenize(token_lookup)\n"
      ]
    },
    {
      "cell_type": "markdown",
      "metadata": {
        "id": "cnvG1jusGNPB"
      },
      "source": [
        "# Pre-process all the data and save it\n",
        "\n",
        "The code cell below will pre-process all the data and save it to file, using the code in the `preprocess_and_save_data` in the `helpers.py`."
      ]
    },
    {
      "cell_type": "code",
      "execution_count": null,
      "metadata": {
        "id": "WlEOiXoqGNPB"
      },
      "outputs": [],
      "source": [
        "# pre-process training data\n",
        "helper.preprocess_and_save_data(data_dir, token_lookup, create_lookup_tables)"
      ]
    },
    {
      "cell_type": "markdown",
      "metadata": {
        "id": "cYSKLoVfGNPC"
      },
      "source": [
        "# Check Point\n",
        "The preprocessed data has been saved to disk."
      ]
    },
    {
      "cell_type": "code",
      "execution_count": null,
      "metadata": {
        "id": "hEP-aODGGNPC"
      },
      "outputs": [],
      "source": [
        "import helper\n",
        "import problem_unittests as tests\n",
        "\n",
        "int_text, vocab_to_int, int_to_vocab, token_dict = helper.load_preprocess()"
      ]
    },
    {
      "cell_type": "markdown",
      "metadata": {
        "id": "2QYBiAXOGNPD"
      },
      "source": [
        "## Build the Neural Network"
      ]
    },
    {
      "cell_type": "code",
      "execution_count": null,
      "metadata": {
        "id": "NemXhoAEGNPD"
      },
      "outputs": [],
      "source": [
        "import torch\n",
        "\n",
        "# Check for a GPU\n",
        "train_on_gpu = torch.cuda.is_available()\n",
        "if not train_on_gpu:\n",
        "    print('No GPU found. Please use a GPU to train your neural network.')"
      ]
    },
    {
      "cell_type": "markdown",
      "metadata": {
        "id": "tymy6JwQGNPD"
      },
      "source": [
        "## Input"
      ]
    },
    {
      "cell_type": "code",
      "execution_count": null,
      "metadata": {
        "id": "OzMsNSeEGNPD"
      },
      "outputs": [],
      "source": [
        "from torch.utils.data import TensorDataset, DataLoader\n",
        "import numpy as np\n",
        "import torch\n",
        "\n",
        "def batch_data(words, sequence_length, batch_size):\n",
        "    \"\"\"\n",
        "     Batch the neural network data using DataLoader\n",
        "    :param words: The word ids of the TV scripts\n",
        "    :param sequence_length: The sequence length of each batch\n",
        "    :param batch_size: The size of each batch; the number of sequences in a batch\n",
        "    :return: DataLoader with batched data\n",
        "    \"\"\"\n",
        "    \n",
        "    feature_tensor=[]\n",
        "    target_tensor=[]\n",
        "    idx = 0\n",
        "    while idx<(len(words)-sequence_length):\n",
        "            feature_tensor.append(words[idx:idx+sequence_length])\n",
        "            target_tensor.append(words[idx+sequence_length])\n",
        "            idx+=1\n",
        "        \n",
        "    feature_tensor = torch.from_numpy(np.array(feature_tensor))\n",
        "    target_tensor = torch.from_numpy(np.array(target_tensor))\n",
        "    \n",
        "    data = TensorDataset(feature_tensor, target_tensor)\n",
        "    data_loader = torch.utils.data.DataLoader(data, batch_size=batch_size)\n",
        "    \n",
        "    return data_loader\n",
        "\n",
        "\n"
      ]
    },
    {
      "cell_type": "markdown",
      "metadata": {
        "id": "GnglBllDGNPE"
      },
      "source": [
        "### Test your dataloader \n"
      ]
    },
    {
      "cell_type": "code",
      "execution_count": null,
      "metadata": {
        "id": "djkFbgCdGNPE",
        "outputId": "9335ef79-b67c-4cca-e2fb-b571f7e7f53f"
      },
      "outputs": [
        {
          "name": "stdout",
          "output_type": "stream",
          "text": [
            "torch.Size([10, 5])\n",
            "tensor([[  0,   1,   2,   3,   4],\n",
            "        [  1,   2,   3,   4,   5],\n",
            "        [  2,   3,   4,   5,   6],\n",
            "        [  3,   4,   5,   6,   7],\n",
            "        [  4,   5,   6,   7,   8],\n",
            "        [  5,   6,   7,   8,   9],\n",
            "        [  6,   7,   8,   9,  10],\n",
            "        [  7,   8,   9,  10,  11],\n",
            "        [  8,   9,  10,  11,  12],\n",
            "        [  9,  10,  11,  12,  13]])\n",
            "\n",
            "torch.Size([10])\n",
            "tensor([  5,   6,   7,   8,   9,  10,  11,  12,  13,  14])\n"
          ]
        }
      ],
      "source": [
        "# test dataloader\n",
        "\n",
        "test_text = range(50)\n",
        "t_loader = batch_data(test_text, sequence_length=5, batch_size=10)\n",
        "\n",
        "data_iter = iter(t_loader)\n",
        "sample_x, sample_y = data_iter.next()\n",
        "\n",
        "print(sample_x.shape)\n",
        "print(sample_x)\n",
        "print()\n",
        "print(sample_y.shape)\n",
        "print(sample_y)"
      ]
    },
    {
      "cell_type": "markdown",
      "metadata": {
        "id": "yO5X-9P4GNPF"
      },
      "source": [
        "---\n",
        "## Build the Neural Network\n",
        "Implement an RNN using PyTorch's [Module class](http://pytorch.org/docs/master/nn.html#torch.nn.Module). I chose to use an LSTM.\n",
        "```"
      ]
    },
    {
      "cell_type": "code",
      "execution_count": null,
      "metadata": {
        "id": "xIiro4LJGNPF",
        "outputId": "5f0401ab-77e8-4a6a-f72f-ce4ccdb82651"
      },
      "outputs": [
        {
          "name": "stdout",
          "output_type": "stream",
          "text": [
            "Tests Passed\n"
          ]
        }
      ],
      "source": [
        "import torch.nn as nn\n",
        "\n",
        "class RNN(nn.Module):\n",
        "    \n",
        "    def __init__(self, vocab_size, output_size, embedding_dim, hidden_dim, n_layers, dropout=0.5):\n",
        "        \"\"\"\n",
        "        Initialize the PyTorch RNN Module\n",
        "        :param vocab_size: The number of input dimensions of the neural network (the size of the vocabulary)\n",
        "        :param output_size: The number of output dimensions of the neural network\n",
        "        :param embedding_dim: The size of embeddings, should you choose to use them        \n",
        "        :param hidden_dim: The size of the hidden layer outputs\n",
        "        :param dropout: dropout to add in between LSTM/GRU layers\n",
        "        \"\"\"\n",
        "        super(RNN, self).__init__()\n",
        "        \n",
        "        # set class variables\n",
        "        self.vocab_size = vocab_size\n",
        "        self.output_size = output_size\n",
        "        self.embedding_dim = embedding_dim\n",
        "        self.hidden_dim = hidden_dim\n",
        "        self.n_layers = n_layers\n",
        "        self.dropout = dropout\n",
        "        \n",
        "        # define model layers\n",
        "        self.embedding = nn.Embedding(self.vocab_size, self.embedding_dim)\n",
        "        self.lstm = nn.LSTM(self.embedding_dim, \n",
        "                            self.hidden_dim, \n",
        "                            self.n_layers, \n",
        "                            dropout=self.dropout, \n",
        "                            batch_first=True)\n",
        "        \n",
        "        #self.dropout = nn.Dropout(dropout)\n",
        "        \n",
        "        self.fc = nn.Linear(self.hidden_dim, self.output_size)\n",
        "        \n",
        "    \n",
        "    def forward(self, nn_input, hidden):\n",
        "        \"\"\"\n",
        "        Forward propagation of the neural network\n",
        "        :param nn_input: The input to the neural network\n",
        "        :param hidden: The hidden state        \n",
        "        :return: Two Tensors, the output of the neural network and the latest hidden state\n",
        "        \"\"\"\n",
        "        \n",
        "        batch_size = nn_input.size(0)\n",
        "        \n",
        "        embeds = self.embedding(nn_input)\n",
        "        lstm_out, hidden = self.lstm(embeds, hidden)\n",
        "        \n",
        "        \n",
        "        out = lstm_out.contiguous().view(-1, self.hidden_dim)\n",
        "        out = self.fc(out)\n",
        "        \n",
        "        out = out.view(batch_size, -1, self.output_size)\n",
        "        out = out[:, -1]\n",
        "        \n",
        "        \n",
        "        # return one batch of output word scores and the hidden state\n",
        "        return out, hidden\n",
        "    \n",
        "    \n",
        "    def init_hidden(self, batch_size):\n",
        "        '''\n",
        "        Initialize the hidden state of an LSTM/GRU\n",
        "        :param batch_size: The batch_size of the hidden state\n",
        "        :return: hidden state of dims (n_layers, batch_size, hidden_dim)\n",
        "        '''\n",
        "        # Implement function\n",
        "        weight = next(self.parameters()).data\n",
        "        \n",
        "        if (train_on_gpu):\n",
        "            hidden = (weight.new(self.n_layers, batch_size, self.hidden_dim).zero_().cuda(),\n",
        "                weight.new(self.n_layers, batch_size, self.hidden_dim).zero_().cuda())\n",
        "        else:\n",
        "            hidden = (weight.new(self.n_layers, batch_size, self.hidden_dim).zero_(),\n",
        "                      weight.new(self.n_layers, batch_size, self.hidden_dim).zero_())\n",
        "        \n",
        "        return hidden\n",
        "        \n",
        "        \n",
        "tests.test_rnn(RNN, train_on_gpu)"
      ]
    },
    {
      "cell_type": "markdown",
      "metadata": {
        "id": "hgckza4vGNPH"
      },
      "source": [
        "### Define forward and backpropagation"
      ]
    },
    {
      "cell_type": "code",
      "execution_count": null,
      "metadata": {
        "id": "TAvIAeOLGNPH",
        "outputId": "1293c195-c422-4992-a160-54de7f269b6b"
      },
      "outputs": [
        {
          "name": "stdout",
          "output_type": "stream",
          "text": [
            "Tests Passed\n"
          ]
        }
      ],
      "source": [
        "def forward_back_prop(rnn, optimizer, criterion, inp, target, hidden):\n",
        "    \"\"\"\n",
        "    Forward and backward propagation on the neural network\n",
        "    :param decoder: The PyTorch Module that holds the neural network\n",
        "    :param decoder_optimizer: The PyTorch optimizer for the neural network\n",
        "    :param criterion: The PyTorch loss function\n",
        "    :param inp: A batch of input to the neural network\n",
        "    :param target: The target output for the batch of input\n",
        "    :return: The loss and the latest hidden state Tensor\n",
        "    \"\"\"\n",
        "    \n",
        "    # move data to GPU, if available\n",
        "    if train_on_gpu:\n",
        "        rnn.cuda()\n",
        "        inp, target = inp.cuda(), target.cuda()\n",
        "        \n",
        "    \n",
        "    hidden_previous = tuple([each.data for each in hidden])\n",
        "    \n",
        "    rnn.zero_grad()\n",
        "    \n",
        "    output, hidden_current = rnn(inp, hidden_previous)\n",
        "    \n",
        "    loss = criterion(output.squeeze(), target)\n",
        "    loss.backward()\n",
        "    # perform backpropagation and optimization\n",
        "    clip = 5\n",
        "    nn.utils.clip_grad_norm_(rnn.parameters(), clip)\n",
        "    \n",
        "    optimizer.step()\n",
        "    # return the loss over a batch and the hidden state produced by our model\n",
        "    return loss.item(), hidden_current\n",
        "\n",
        "\n",
        "tests.test_forward_back_prop(RNN, forward_back_prop, train_on_gpu)"
      ]
    },
    {
      "cell_type": "markdown",
      "metadata": {
        "id": "09n1iDC_GNPH"
      },
      "source": [
        "## Neural Network Training\n"
      ]
    },
    {
      "cell_type": "code",
      "execution_count": null,
      "metadata": {
        "id": "hzfvngfbGNPI"
      },
      "outputs": [],
      "source": [
        "def train_rnn(rnn, batch_size, optimizer, criterion, n_epochs, show_every_n_batches=100):\n",
        "    batch_losses = []\n",
        "    \n",
        "    rnn.train()\n",
        "\n",
        "    print(\"Training for %d epoch(s)...\" % n_epochs)\n",
        "    for epoch_i in range(1, n_epochs + 1):\n",
        "        \n",
        "        # initialize hidden state\n",
        "        hidden = rnn.init_hidden(batch_size)\n",
        "        \n",
        "        for batch_i, (inputs, labels) in enumerate(train_loader, 1):\n",
        "            \n",
        "            # make sure you iterate over completely full batches, only\n",
        "            n_batches = len(train_loader.dataset)//batch_size\n",
        "            if(batch_i > n_batches):\n",
        "                break\n",
        "            \n",
        "            # forward, back prop\n",
        "            loss, hidden = forward_back_prop(rnn, optimizer, criterion, inputs, labels, hidden)          \n",
        "            # record loss\n",
        "            batch_losses.append(loss)\n",
        "\n",
        "            # printing loss stats\n",
        "            if batch_i % show_every_n_batches == 0:\n",
        "                print('Epoch: {:>4}/{:<4}  Loss: {}\\n'.format(\n",
        "                    epoch_i, n_epochs, np.average(batch_losses)))\n",
        "                batch_losses = []\n",
        "\n",
        "    # returns a trained rnn\n",
        "    return rnn"
      ]
    },
    {
      "cell_type": "markdown",
      "metadata": {
        "id": "W2aKOeJvGNPI"
      },
      "source": [
        "### Hyperparameters"
      ]
    },
    {
      "cell_type": "code",
      "execution_count": null,
      "metadata": {
        "id": "5GeXhATRGNPI"
      },
      "outputs": [],
      "source": [
        "# Data params\n",
        "# Sequence Length\n",
        "sequence_length = 9  # of words in a sequence\n",
        "# Batch Size\n",
        "batch_size = 128\n",
        "\n",
        "# data loader - do not change\n",
        "train_loader = batch_data(int_text, sequence_length, batch_size)"
      ]
    },
    {
      "cell_type": "code",
      "execution_count": null,
      "metadata": {
        "id": "AQgmvlrjGNPJ"
      },
      "outputs": [],
      "source": [
        "# Training parameters\n",
        "# Number of Epochs\n",
        "num_epochs = 10\n",
        "# Learning Rate\n",
        "learning_rate = 0.001\n",
        "\n",
        "# Model parameters\n",
        "# Vocab size\n",
        "vocab_size = len(vocab_to_int)\n",
        "# Output size\n",
        "output_size = vocab_size\n",
        "# Embedding Dimension\n",
        "embedding_dim = 200\n",
        "# Hidden Dimension\n",
        "hidden_dim = 256\n",
        "# Number of RNN Layers\n",
        "n_layers = 2\n",
        "\n",
        "# Show stats for every n number of batches\n",
        "show_every_n_batches = 500"
      ]
    },
    {
      "cell_type": "markdown",
      "metadata": {
        "id": "JRMw_69bGNPJ"
      },
      "source": [
        "### Train\n",
        "Training the neural network on the pre-processed data.  "
      ]
    },
    {
      "cell_type": "code",
      "execution_count": null,
      "metadata": {
        "scrolled": true,
        "id": "nerfxTdKGNPJ",
        "outputId": "268983a5-44eb-4e62-aabf-253f4b3d7018"
      },
      "outputs": [
        {
          "name": "stdout",
          "output_type": "stream",
          "text": [
            "Training for 10 epoch(s)...\n",
            "Epoch:    1/10    Loss: 5.466002619743347\n",
            "\n",
            "Epoch:    1/10    Loss: 4.88364857006073\n",
            "\n",
            "Epoch:    1/10    Loss: 4.639263223648071\n",
            "\n",
            "Epoch:    1/10    Loss: 4.515709523677826\n",
            "\n",
            "Epoch:    1/10    Loss: 4.515736549377442\n",
            "\n",
            "Epoch:    1/10    Loss: 4.55597962141037\n",
            "\n",
            "Epoch:    1/10    Loss: 4.4608212099075315\n",
            "\n",
            "Epoch:    1/10    Loss: 4.339090788364411\n",
            "\n",
            "Epoch:    1/10    Loss: 4.320244766235351\n",
            "\n",
            "Epoch:    1/10    Loss: 4.257660696029663\n",
            "\n",
            "Epoch:    1/10    Loss: 4.372026089668274\n",
            "\n",
            "Epoch:    1/10    Loss: 4.395069370746612\n",
            "\n",
            "Epoch:    1/10    Loss: 4.402885219097137\n",
            "\n",
            "Epoch:    2/10    Loss: 4.195023213623724\n",
            "\n",
            "Epoch:    2/10    Loss: 4.026999027729034\n",
            "\n",
            "Epoch:    2/10    Loss: 3.9317459640502928\n",
            "\n",
            "Epoch:    2/10    Loss: 3.8837180008888246\n",
            "\n",
            "Epoch:    2/10    Loss: 3.9347124376297\n",
            "\n",
            "Epoch:    2/10    Loss: 4.006439309597015\n",
            "\n",
            "Epoch:    2/10    Loss: 3.9525188846588133\n",
            "\n",
            "Epoch:    2/10    Loss: 3.8451841645240785\n",
            "\n",
            "Epoch:    2/10    Loss: 3.8373933095932005\n",
            "\n",
            "Epoch:    2/10    Loss: 3.803809377670288\n",
            "\n",
            "Epoch:    2/10    Loss: 3.926789891242981\n",
            "\n",
            "Epoch:    2/10    Loss: 3.934937310218811\n",
            "\n",
            "Epoch:    2/10    Loss: 3.970672184944153\n",
            "\n",
            "Epoch:    3/10    Loss: 3.8712840456711617\n",
            "\n",
            "Epoch:    3/10    Loss: 3.775071129322052\n",
            "\n",
            "Epoch:    3/10    Loss: 3.691812557220459\n",
            "\n",
            "Epoch:    3/10    Loss: 3.65393662071228\n",
            "\n",
            "Epoch:    3/10    Loss: 3.715874297618866\n",
            "\n",
            "Epoch:    3/10    Loss: 3.819782301425934\n",
            "\n",
            "Epoch:    3/10    Loss: 3.7500293250083923\n",
            "\n",
            "Epoch:    3/10    Loss: 3.6267724041938783\n",
            "\n",
            "Epoch:    3/10    Loss: 3.6434374690055846\n",
            "\n",
            "Epoch:    3/10    Loss: 3.6138231921195985\n",
            "\n",
            "Epoch:    3/10    Loss: 3.740509705543518\n",
            "\n",
            "Epoch:    3/10    Loss: 3.7395993747711183\n",
            "\n",
            "Epoch:    3/10    Loss: 3.7595096259117127\n",
            "\n",
            "Epoch:    4/10    Loss: 3.6803612017656135\n",
            "\n",
            "Epoch:    4/10    Loss: 3.621677306652069\n",
            "\n",
            "Epoch:    4/10    Loss: 3.5495333285331725\n",
            "\n",
            "Epoch:    4/10    Loss: 3.523941427707672\n",
            "\n",
            "Epoch:    4/10    Loss: 3.5674053716659544\n",
            "\n",
            "Epoch:    4/10    Loss: 3.6700213942527773\n",
            "\n",
            "Epoch:    4/10    Loss: 3.6034134006500245\n",
            "\n",
            "Epoch:    4/10    Loss: 3.5232251653671263\n",
            "\n",
            "Epoch:    4/10    Loss: 3.502725345611572\n",
            "\n",
            "Epoch:    4/10    Loss: 3.477909088611603\n",
            "\n",
            "Epoch:    4/10    Loss: 3.604252673625946\n",
            "\n",
            "Epoch:    4/10    Loss: 3.6060414662361144\n",
            "\n",
            "Epoch:    4/10    Loss: 3.6284813556671143\n",
            "\n",
            "Epoch:    5/10    Loss: 3.5592843664442912\n",
            "\n",
            "Epoch:    5/10    Loss: 3.5163166823387146\n",
            "\n",
            "Epoch:    5/10    Loss: 3.4527522964477537\n",
            "\n",
            "Epoch:    5/10    Loss: 3.4297471146583556\n",
            "\n",
            "Epoch:    5/10    Loss: 3.455430635929108\n",
            "\n",
            "Epoch:    5/10    Loss: 3.5448739047050477\n",
            "\n",
            "Epoch:    5/10    Loss: 3.5030275630950927\n",
            "\n",
            "Epoch:    5/10    Loss: 3.4308710932731628\n",
            "\n",
            "Epoch:    5/10    Loss: 3.414175211429596\n",
            "\n",
            "Epoch:    5/10    Loss: 3.3844634475708006\n",
            "\n",
            "Epoch:    5/10    Loss: 3.498992437362671\n",
            "\n",
            "Epoch:    5/10    Loss: 3.504257999420166\n",
            "\n",
            "Epoch:    5/10    Loss: 3.5485170521736147\n",
            "\n",
            "Epoch:    6/10    Loss: 3.475689227366964\n",
            "\n",
            "Epoch:    6/10    Loss: 3.423882584095001\n",
            "\n",
            "Epoch:    6/10    Loss: 3.3812445731163026\n",
            "\n",
            "Epoch:    6/10    Loss: 3.3517610244750977\n",
            "\n",
            "Epoch:    6/10    Loss: 3.381849147796631\n",
            "\n",
            "Epoch:    6/10    Loss: 3.4571907572746277\n",
            "\n",
            "Epoch:    6/10    Loss: 3.4151033229827883\n",
            "\n",
            "Epoch:    6/10    Loss: 3.3499337935447695\n",
            "\n",
            "Epoch:    6/10    Loss: 3.3316357035636903\n",
            "\n",
            "Epoch:    6/10    Loss: 3.3114384274482727\n",
            "\n",
            "Epoch:    6/10    Loss: 3.425629315376282\n",
            "\n",
            "Epoch:    6/10    Loss: 3.426535326004028\n",
            "\n",
            "Epoch:    6/10    Loss: 3.4558202600479127\n",
            "\n",
            "Epoch:    7/10    Loss: 3.402361741375997\n",
            "\n",
            "Epoch:    7/10    Loss: 3.3663163805007934\n",
            "\n",
            "Epoch:    7/10    Loss: 3.3138385038375855\n",
            "\n",
            "Epoch:    7/10    Loss: 3.2833398599624632\n",
            "\n",
            "Epoch:    7/10    Loss: 3.3141872911453247\n",
            "\n",
            "Epoch:    7/10    Loss: 3.38590713262558\n",
            "\n",
            "Epoch:    7/10    Loss: 3.358645247936249\n",
            "\n",
            "Epoch:    7/10    Loss: 3.2813901553153992\n",
            "\n",
            "Epoch:    7/10    Loss: 3.2684995102882386\n",
            "\n",
            "Epoch:    7/10    Loss: 3.282161166191101\n",
            "\n",
            "Epoch:    7/10    Loss: 3.3620556435585023\n",
            "\n",
            "Epoch:    7/10    Loss: 3.3584789714813232\n",
            "\n",
            "Epoch:    7/10    Loss: 3.4023658657073974\n",
            "\n",
            "Epoch:    8/10    Loss: 3.343483465005739\n",
            "\n",
            "Epoch:    8/10    Loss: 3.3096036601066587\n",
            "\n",
            "Epoch:    8/10    Loss: 3.2618675384521483\n",
            "\n",
            "Epoch:    8/10    Loss: 3.229741479873657\n",
            "\n",
            "Epoch:    8/10    Loss: 3.25367640542984\n",
            "\n",
            "Epoch:    8/10    Loss: 3.3371415815353394\n",
            "\n",
            "Epoch:    8/10    Loss: 3.3057366437911986\n",
            "\n",
            "Epoch:    8/10    Loss: 3.231456959247589\n",
            "\n",
            "Epoch:    8/10    Loss: 3.2253628482818604\n",
            "\n",
            "Epoch:    8/10    Loss: 3.227492889881134\n",
            "\n",
            "Epoch:    8/10    Loss: 3.3088213763236998\n",
            "\n",
            "Epoch:    8/10    Loss: 3.3049107570648193\n",
            "\n",
            "Epoch:    8/10    Loss: 3.3385235085487364\n",
            "\n",
            "Epoch:    9/10    Loss: 3.2983824936105988\n",
            "\n",
            "Epoch:    9/10    Loss: 3.262720736026764\n",
            "\n",
            "Epoch:    9/10    Loss: 3.22966383934021\n",
            "\n",
            "Epoch:    9/10    Loss: 3.1913312425613403\n",
            "\n",
            "Epoch:    9/10    Loss: 3.209671821594238\n",
            "\n",
            "Epoch:    9/10    Loss: 3.2901377091407777\n",
            "\n",
            "Epoch:    9/10    Loss: 3.262649510383606\n",
            "\n",
            "Epoch:    9/10    Loss: 3.187613205909729\n",
            "\n",
            "Epoch:    9/10    Loss: 3.1850788960456846\n",
            "\n",
            "Epoch:    9/10    Loss: 3.187824908256531\n",
            "\n",
            "Epoch:    9/10    Loss: 3.2663818130493163\n",
            "\n",
            "Epoch:    9/10    Loss: 3.26497887134552\n",
            "\n",
            "Epoch:    9/10    Loss: 3.2864433679580687\n",
            "\n",
            "Epoch:   10/10    Loss: 3.2566225184252633\n",
            "\n",
            "Epoch:   10/10    Loss: 3.220292505264282\n",
            "\n",
            "Epoch:   10/10    Loss: 3.1886260833740234\n",
            "\n",
            "Epoch:   10/10    Loss: 3.1474709849357607\n",
            "\n",
            "Epoch:   10/10    Loss: 3.1721418981552123\n",
            "\n",
            "Epoch:   10/10    Loss: 3.253449161529541\n",
            "\n",
            "Epoch:   10/10    Loss: 3.222930087566376\n",
            "\n",
            "Epoch:   10/10    Loss: 3.1515175490379335\n",
            "\n",
            "Epoch:   10/10    Loss: 3.15092462682724\n",
            "\n",
            "Epoch:   10/10    Loss: 3.155543233394623\n",
            "\n",
            "Epoch:   10/10    Loss: 3.237061370372772\n",
            "\n",
            "Epoch:   10/10    Loss: 3.2254268436431883\n",
            "\n",
            "Epoch:   10/10    Loss: 3.2437953367233274\n",
            "\n"
          ]
        },
        {
          "name": "stderr",
          "output_type": "stream",
          "text": [
            "/opt/conda/lib/python3.6/site-packages/torch/serialization.py:193: UserWarning: Couldn't retrieve source code for container of type RNN. It won't be checked for correctness upon loading.\n",
            "  \"type \" + obj.__name__ + \". It won't be checked \"\n"
          ]
        },
        {
          "name": "stdout",
          "output_type": "stream",
          "text": [
            "Model Trained and Saved\n"
          ]
        }
      ],
      "source": [
        "\"\"\"\n",
        "DON'T MODIFY ANYTHING IN THIS CELL\n",
        "\"\"\"\n",
        "\n",
        "# create model and move to gpu if available\n",
        "rnn = RNN(vocab_size, output_size, embedding_dim, hidden_dim, n_layers, dropout=0.5)\n",
        "if train_on_gpu:\n",
        "    rnn.cuda()\n",
        "\n",
        "# defining loss and optimization functions for training\n",
        "optimizer = torch.optim.Adam(rnn.parameters(), lr=learning_rate)\n",
        "criterion = nn.CrossEntropyLoss()\n",
        "\n",
        "# training the model\n",
        "trained_rnn = train_rnn(rnn, batch_size, optimizer, criterion, num_epochs, show_every_n_batches)\n",
        "\n",
        "# saving the trained model\n",
        "helper.save_model('./save/trained_rnn', trained_rnn)\n",
        "print('Model Trained and Saved')"
      ]
    },
    {
      "cell_type": "markdown",
      "metadata": {
        "id": "HBosFoFiGNPJ"
      },
      "source": [
        "---\n",
        "# Checkpoint\n",
        "\n",
        "After running the above training cell, the model will be saved by name, `trained_rnn`."
      ]
    },
    {
      "cell_type": "code",
      "execution_count": null,
      "metadata": {
        "id": "o0TG29TdGNPJ"
      },
      "outputs": [],
      "source": [
        "\"\"\"\n",
        "DON'T MODIFY ANYTHING IN THIS CELL\n",
        "\"\"\"\n",
        "import torch\n",
        "import helper\n",
        "import problem_unittests as tests\n",
        "\n",
        "_, vocab_to_int, int_to_vocab, token_dict = helper.load_preprocess()\n",
        "trained_rnn = helper.load_model('./save/trained_rnn')"
      ]
    },
    {
      "cell_type": "markdown",
      "metadata": {
        "id": "Y18ngMKBGNPJ"
      },
      "source": [
        "## Generate TV Script\n",
        "With the network trained and saved, i'll use it to generate a new, \"fake\" Seinfeld TV script in this section.\n"
      ]
    },
    {
      "cell_type": "code",
      "execution_count": null,
      "metadata": {
        "id": "2slPiAeSGNPK"
      },
      "outputs": [],
      "source": [
        "import torch.nn.functional as F\n",
        "\n",
        "def generate(rnn, prime_id, int_to_vocab, token_dict, pad_value, predict_len=100):\n",
        "    \"\"\"\n",
        "    Generate text using the neural network\n",
        "    :param decoder: The PyTorch Module that holds the trained neural network\n",
        "    :param prime_id: The word id to start the first prediction\n",
        "    :param int_to_vocab: Dict of word id keys to word values\n",
        "    :param token_dict: Dict of puncuation tokens keys to puncuation values\n",
        "    :param pad_value: The value used to pad a sequence\n",
        "    :param predict_len: The length of text to generate\n",
        "    :return: The generated text\n",
        "    \"\"\"\n",
        "    rnn.eval()\n",
        "    \n",
        "    # create a sequence (batch_size=1) with the prime_id\n",
        "    current_seq = np.full((1, sequence_length), pad_value)\n",
        "    current_seq[-1][-1] = prime_id\n",
        "    predicted = [int_to_vocab[prime_id]]\n",
        "    \n",
        "    for _ in range(predict_len):\n",
        "        if train_on_gpu:\n",
        "            current_seq = torch.LongTensor(current_seq).cuda()\n",
        "        else:\n",
        "            current_seq = torch.LongTensor(current_seq)\n",
        "        \n",
        "        # initialize the hidden state\n",
        "        hidden = rnn.init_hidden(current_seq.size(0))\n",
        "        \n",
        "        # get the output of the rnn\n",
        "        output, _ = rnn(current_seq, hidden)\n",
        "        \n",
        "        # get the next word probabilities\n",
        "        p = F.softmax(output, dim=1).data\n",
        "        if(train_on_gpu):\n",
        "            p = p.cpu() # move to cpu\n",
        "         \n",
        "        # use top_k sampling to get the index of the next word\n",
        "        top_k = 5\n",
        "        p, top_i = p.topk(top_k)\n",
        "        top_i = top_i.numpy().squeeze()\n",
        "        \n",
        "        # select the likely next word index with some element of randomness\n",
        "        p = p.numpy().squeeze()\n",
        "        word_i = np.random.choice(top_i, p=p/p.sum())\n",
        "        \n",
        "        # retrieve that word from the dictionary\n",
        "        word = int_to_vocab[word_i]\n",
        "        predicted.append(word)     \n",
        "        \n",
        "        # the generated word becomes the next \"current sequence\" and the cycle can continue\n",
        "        current_seq = np.roll(current_seq, -1, 1)\n",
        "        current_seq[-1][-1] = word_i\n",
        "    \n",
        "    gen_sentences = ' '.join(predicted)\n",
        "    \n",
        "    # Replace punctuation tokens\n",
        "    for key, token in token_dict.items():\n",
        "        ending = ' ' if key in ['\\n', '(', '\"'] else ''\n",
        "        gen_sentences = gen_sentences.replace(' ' + token.lower(), key)\n",
        "    gen_sentences = gen_sentences.replace('\\n ', '\\n')\n",
        "    gen_sentences = gen_sentences.replace('( ', '(')\n",
        "    \n",
        "    # return all the sentences\n",
        "    return gen_sentences"
      ]
    },
    {
      "cell_type": "markdown",
      "metadata": {
        "id": "Ugi-9_xzGNPK"
      },
      "source": [
        "### Generate a New Script\n"
      ]
    },
    {
      "cell_type": "code",
      "execution_count": null,
      "metadata": {
        "id": "ggONK1WVGNPK",
        "outputId": "7d78470b-35eb-46a4-8ab9-619bb05fc3f2"
      },
      "outputs": [
        {
          "name": "stderr",
          "output_type": "stream",
          "text": [
            "/opt/conda/lib/python3.6/site-packages/ipykernel_launcher.py:49: UserWarning: RNN module weights are not part of single contiguous chunk of memory. This means they need to be compacted at every call, possibly greatly increasing memory usage. To compact weights again call flatten_parameters().\n"
          ]
        },
        {
          "name": "stdout",
          "output_type": "stream",
          "text": [
            "elaine: the mets score.\n",
            "\n",
            "jerry: oh, no.\n",
            "\n",
            "elaine: what do you mean?\n",
            "\n",
            "george: well, i'm not a little bit of the same time, i think it was the last year of the incident.\n",
            "\n",
            "jerry: what?\n",
            "\n",
            "jerry: oh, i think it's good, so you don't want to be able to be in the bottom.\n",
            "\n",
            "elaine: oh, that's not the same.\n",
            "\n",
            "elaine: i think it's a lovely.\n",
            "\n",
            "elaine: i don't know what it was. i don't know if we were going to hell this whole thing is in the city.\n",
            "\n",
            "elaine: so?\n",
            "\n",
            "elaine: oh.\n",
            "\n",
            "kramer: yeah, well, you know, the guy who needs the trial.\n",
            "\n",
            "kramer: oh.\n",
            "\n",
            "elaine: oh, i think it's fantastic for you.\n",
            "\n",
            "jerry: oh, i think it's the good score.\n",
            "\n",
            "hoyt: and you know who?\n",
            "\n",
            "jerry: yeah.\n",
            "\n",
            "jerry: i can't get a good one.\n",
            "\n",
            "jerry: i thought he was so uptight.\n",
            "\n",
            "hoyt: and, i don't want to tell you, i got a lot of trouble with the sock to the end of your cell, 000.\n",
            "\n",
            "george: i know, it's a little bit. it's not a good idea.\n",
            "\n",
            "hoyt: and then you want to get a new saab?\n",
            "\n",
            "jerry: i think it's a little good idea. you know, you were in the movies, and he was the one who encouraged you to be able to be a little askew.\n",
            "\n",
            "elaine: what are you doing?\n",
            "\n",
            "jerry: yeah.\n",
            "\n",
            "george: i think i can.\n",
            "\n",
            "jerry: you know, i can't get you a private jet.\n",
            "\n",
            "jerry: i can't. i think we can get a little.\n",
            "\n",
            "hoyt: so.\n",
            "\n",
            "hoyt: you don't have a little health to go, and then, i don't want you to be a little.\n",
            "\n",
            "george: so you just came by to call him.\n",
            "\n",
            "jerry: what?\n"
          ]
        }
      ],
      "source": [
        "# run the cell multiple times to get different results!\n",
        "gen_length = 400 # modify the length to your preference\n",
        "prime_word = 'elaine' # name for starting the script\n",
        "\n",
        "\n",
        "pad_word = helper.SPECIAL_WORDS['PADDING']\n",
        "generated_script = generate(trained_rnn, vocab_to_int[prime_word + ':'], int_to_vocab, token_dict, vocab_to_int[pad_word], gen_length)\n",
        "print(generated_script)"
      ]
    },
    {
      "cell_type": "markdown",
      "metadata": {
        "id": "T4WoEaVMGNPL"
      },
      "source": [
        "#### Save the favorite scripts\n",
        "\n"
      ]
    },
    {
      "cell_type": "code",
      "execution_count": null,
      "metadata": {
        "id": "zUTJ7InNGNPL"
      },
      "outputs": [],
      "source": [
        "# save script to a text file\n",
        "f =  open(\"generated_script_1.txt\",\"w\")\n",
        "f.write(generated_script)\n",
        "f.close()"
      ]
    }
  ],
  "metadata": {
    "kernelspec": {
      "display_name": "Python 3",
      "language": "python",
      "name": "python3"
    },
    "language_info": {
      "codemirror_mode": {
        "name": "ipython",
        "version": 3
      },
      "file_extension": ".py",
      "mimetype": "text/x-python",
      "name": "python",
      "nbconvert_exporter": "python",
      "pygments_lexer": "ipython3",
      "version": "3.6.3"
    },
    "colab": {
      "provenance": []
    }
  },
  "nbformat": 4,
  "nbformat_minor": 0
}